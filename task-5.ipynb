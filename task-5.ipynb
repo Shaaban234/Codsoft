{
 "cells": [
  {
   "cell_type": "code",
   "execution_count": null,
   "metadata": {
    "_cell_guid": "b1076dfc-b9ad-4769-8c92-a6c4dae69d19",
    "_uuid": "8f2839f25d086af736a60e9eeb907d3b93b6e0e5",
    "execution": {
     "iopub.execute_input": "2023-10-30T13:35:01.438195Z",
     "iopub.status.busy": "2023-10-30T13:35:01.437783Z",
     "iopub.status.idle": "2023-10-30T13:35:01.454854Z",
     "shell.execute_reply": "2023-10-30T13:35:01.453631Z",
     "shell.execute_reply.started": "2023-10-30T13:35:01.438166Z"
    }
   },
   "outputs": [],
   "source": [
    "# This Python 3 environment comes with many helpful analytics libraries installed\n",
    "# It is defined by the kaggle/python Docker image: https://github.com/kaggle/docker-python\n",
    "# For example, here's several helpful packages to load\n",
    "\n",
    "import numpy as np # linear algebra\n",
    "import pandas as pd # data processing, CSV file I/O (e.g. pd.read_csv)\n",
    "from sklearn.linear_model import LogisticRegression\n",
    "from sklearn.metrics import accuracy_score\n",
    "\n",
    "import matplotlib.pyplot as plt\n",
    "import seaborn as sns\n",
    "from sklearn.model_selection import train_test_split\n",
    "\n",
    "from sklearn.linear_model import LogisticRegression\n",
    "from sklearn.ensemble import RandomForestClassifier\n",
    "\n",
    "from sklearn.model_selection import train_test_split\n",
    "from sklearn.metrics import confusion_matrix, accuracy_score\n",
    "from sklearn.pipeline import Pipeline\n",
    "from sklearn.impute import SimpleImputer\n",
    "from sklearn.preprocessing import StandardScaler\n",
    "# Input data files are available in the read-only \"../input/\" directory\n",
    "# For example, running this (by clicking run or pressing Shift+Enter) will list all files under the input directory\n",
    "\n",
    "import os\n",
    "for dirname, _, filenames in os.walk('/kaggle/input'):\n",
    "    for filename in filenames:\n",
    "        print(os.path.join(dirname, filename))\n",
    "\n",
    "# You can write up to 20GB to the current directory (/kaggle/working/) that gets preserved as output when you create a version using \"Save & Run All\" \n",
    "# You can also write temporary files to /kaggle/temp/, but they won't be saved outside of the current session"
   ]
  },
  {
   "cell_type": "code",
   "execution_count": null,
   "metadata": {
    "execution": {
     "iopub.execute_input": "2023-10-30T13:35:01.457855Z",
     "iopub.status.busy": "2023-10-30T13:35:01.457165Z",
     "iopub.status.idle": "2023-10-30T13:35:03.959357Z",
     "shell.execute_reply": "2023-10-30T13:35:03.958096Z",
     "shell.execute_reply.started": "2023-10-30T13:35:01.457812Z"
    }
   },
   "outputs": [],
   "source": [
    "df=pd.read_csv(r\"C:\\Users\\Shabaan\\Desktop\\creditcard.csv\")\n",
    "df.head()"
   ]
  },
  {
   "cell_type": "markdown",
   "metadata": {},
   "source": [
    "First: Exploration and Charts( Credits to Kaggle user: ZHAOHAN ZENG) for the graphs code"
   ]
  },
  {
   "cell_type": "markdown",
   "metadata": {},
   "source": [
    "Boxplots for Outlier Detection"
   ]
  },
  {
   "cell_type": "code",
   "execution_count": null,
   "metadata": {
    "execution": {
     "iopub.execute_input": "2023-10-30T13:35:03.961445Z",
     "iopub.status.busy": "2023-10-30T13:35:03.960944Z",
     "iopub.status.idle": "2023-10-30T13:35:04.576501Z",
     "shell.execute_reply": "2023-10-30T13:35:04.575384Z",
     "shell.execute_reply.started": "2023-10-30T13:35:03.961405Z"
    }
   },
   "outputs": [],
   "source": [
    "# Custom colors for data\n",
    "\n",
    "gray_color = \"#CCCCCC\" # Grey for regular txs\n",
    "red_color = \"#F0544F\" # Red for fraudulent txs\n",
    "blue_color = \"#8CA6F2\" # Blue for heatmap\n",
    "gold_color = '#F2D98C' # Gold for heatmap\n",
    "green_color = '#A4F28C'# Green for confusion matrix\n",
    "white_color = '#FFFFFF' # White for confusion matrix\n",
    "\n",
    "color_pal = [gray_color, red_color]\n",
    "\n",
    "fig, ax = plt.subplots(ncols=2, figsize=(10,4))\n",
    "\n",
    "sns.boxplot(data=df, \n",
    "            x=\"Class\", \n",
    "            y=\"Amount\", \n",
    "            hue=\"Class\",\n",
    "            palette=color_pal,\n",
    "            showfliers=True,\n",
    "            ax=ax[0])\n",
    "\n",
    "sns.boxplot(data=df, \n",
    "            x=\"Class\", \n",
    "            y=\"Amount\", \n",
    "            hue=\"Class\",\n",
    "            palette=color_pal,\n",
    "            showfliers=False,\n",
    "            ax=ax[1])\n",
    "\n",
    "# Add titles to the plots\n",
    "ax[0].set_title(\"Transaction Amount Box Plot (Including Fliers)\")\n",
    "ax[1].set_title(\"Transaction Amount Box Plot (Excluding Fliers)\")\n",
    "\n",
    "# Update legend labels\n",
    "legend_labels = ['Non-fraud', 'Fraud']\n",
    "for i in range(2):\n",
    "    handles, _ = ax[i].get_legend_handles_labels()\n",
    "    ax[i].legend(handles, legend_labels)\n",
    "\n",
    "\n",
    "plt.show()"
   ]
  },
  {
   "cell_type": "markdown",
   "metadata": {},
   "source": [
    "ScatterPlot for Amount Distribution"
   ]
  },
  {
   "cell_type": "code",
   "execution_count": null,
   "metadata": {
    "execution": {
     "iopub.execute_input": "2023-10-30T13:35:04.580381Z",
     "iopub.status.busy": "2023-10-30T13:35:04.579423Z",
     "iopub.status.idle": "2023-10-30T13:35:05.203859Z",
     "shell.execute_reply": "2023-10-30T13:35:05.202799Z",
     "shell.execute_reply.started": "2023-10-30T13:35:04.580352Z"
    }
   },
   "outputs": [],
   "source": [
    "f, ax = plt.subplots(figsize=(10, 4))\n",
    "\n",
    "sns.scatterplot(data=df.loc[df.Class==0], \n",
    "                x='Time', \n",
    "                y='Amount', \n",
    "                color=gray_color,\n",
    "                s=30,\n",
    "                alpha=1,\n",
    "                linewidth=0)\n",
    "\n",
    "ax.set(xlabel=None, xticklabels=[])\n",
    "plt.ylim(0, 3000)\n",
    "\n",
    "\n",
    "sns.scatterplot(data=df.loc[df.Class==1], \n",
    "                x='Time', \n",
    "                y='Amount', \n",
    "                color=red_color,\n",
    "                s=30,\n",
    "                alpha=1,\n",
    "                linewidth=0)\n",
    "plt.ylim(0, 3000)\n",
    "\n",
    "# Add title to the plot\n",
    "ax.set_title(\"Transaction Amount Distribution Over Time\")\n",
    "\n",
    "plt.show()"
   ]
  },
  {
   "cell_type": "markdown",
   "metadata": {
    "execution": {
     "iopub.execute_input": "2023-10-30T13:08:58.851009Z",
     "iopub.status.busy": "2023-10-30T13:08:58.850693Z",
     "iopub.status.idle": "2023-10-30T13:08:58.855908Z",
     "shell.execute_reply": "2023-10-30T13:08:58.854644Z",
     "shell.execute_reply.started": "2023-10-30T13:08:58.850981Z"
    }
   },
   "source": [
    "Feature Comparison of Each Class"
   ]
  },
  {
   "cell_type": "code",
   "execution_count": null,
   "metadata": {
    "execution": {
     "iopub.execute_input": "2023-10-30T13:35:05.205545Z",
     "iopub.status.busy": "2023-10-30T13:35:05.205189Z",
     "iopub.status.idle": "2023-10-30T13:35:49.08027Z",
     "shell.execute_reply": "2023-10-30T13:35:49.07927Z",
     "shell.execute_reply.started": "2023-10-30T13:35:05.205514Z"
    }
   },
   "outputs": [],
   "source": [
    "var = df.columns.values\n",
    "\n",
    "t0 = df.loc[df['Class'] == 0]\n",
    "t1 = df.loc[df['Class'] == 1]\n",
    "\n",
    "num_features = len(var)\n",
    "num_rows = num_features // 4 + int(num_features % 4 != 0)\n",
    "\n",
    "fig, ax = plt.subplots(nrows=num_rows, ncols=4, figsize=(16, 28))\n",
    "\n",
    "for idx, feature in enumerate(var):\n",
    "    row = idx // 4\n",
    "    col = idx % 4\n",
    "    \n",
    "    sns.kdeplot(t0[feature], bw_method=0.5, label=\"Class = 0\", color=gray_color, fill=True, warn_singular=False, ax=ax[row, col])\n",
    "    sns.kdeplot(t1[feature], bw_method=0.5, label=\"Class = 1\", color=red_color, warn_singular=False, ax=ax[row, col])\n",
    "    \n",
    "    ax[row, col].set_xlabel(feature, fontsize=12)\n",
    "    ax[row, col].tick_params(axis='both', which='major', labelsize=12)\n",
    "\n",
    "plt.tight_layout()\n",
    "plt.show()"
   ]
  },
  {
   "cell_type": "markdown",
   "metadata": {},
   "source": [
    "Second: The Models"
   ]
  },
  {
   "cell_type": "markdown",
   "metadata": {},
   "source": [
    "Logistic Classification Pipeline with imputer and scaler "
   ]
  },
  {
   "cell_type": "code",
   "execution_count": null,
   "metadata": {
    "execution": {
     "iopub.execute_input": "2023-10-30T13:35:49.082627Z",
     "iopub.status.busy": "2023-10-30T13:35:49.081571Z",
     "iopub.status.idle": "2023-10-30T13:35:49.087857Z",
     "shell.execute_reply": "2023-10-30T13:35:49.08682Z",
     "shell.execute_reply.started": "2023-10-30T13:35:49.082588Z"
    }
   },
   "outputs": [],
   "source": [
    "pipeLog=Pipeline(\n",
    "[\n",
    "    ('imputer',SimpleImputer()),\n",
    "    ('scaler',StandardScaler()),\n",
    "    ('logClass',LogisticRegression())\n",
    "])"
   ]
  },
  {
   "cell_type": "markdown",
   "metadata": {},
   "source": [
    "Random Forest Classifier Pipeline with imputer and scaler"
   ]
  },
  {
   "cell_type": "code",
   "execution_count": null,
   "metadata": {
    "execution": {
     "iopub.execute_input": "2023-10-30T13:35:49.09007Z",
     "iopub.status.busy": "2023-10-30T13:35:49.089075Z",
     "iopub.status.idle": "2023-10-30T13:35:49.101702Z",
     "shell.execute_reply": "2023-10-30T13:35:49.100735Z",
     "shell.execute_reply.started": "2023-10-30T13:35:49.090038Z"
    }
   },
   "outputs": [],
   "source": [
    "pipeForest=Pipeline(\n",
    "[\n",
    "    ('imputer',SimpleImputer()),\n",
    "    ('scaler',StandardScaler()),\n",
    "    ('forestClass',RandomForestClassifier())\n",
    "])"
   ]
  },
  {
   "cell_type": "markdown",
   "metadata": {},
   "source": [
    "Train Test Split"
   ]
  },
  {
   "cell_type": "code",
   "execution_count": null,
   "metadata": {
    "execution": {
     "iopub.execute_input": "2023-10-30T13:35:49.10352Z",
     "iopub.status.busy": "2023-10-30T13:35:49.103122Z",
     "iopub.status.idle": "2023-10-30T13:35:49.234476Z",
     "shell.execute_reply": "2023-10-30T13:35:49.233339Z",
     "shell.execute_reply.started": "2023-10-30T13:35:49.103483Z"
    }
   },
   "outputs": [],
   "source": [
    "X=df.drop([\"Class\"],axis=1)\n",
    "y=df[\"Class\"]\n",
    "X_train,X_test,y_train,y_test=train_test_split(X,y,test_size=0.2,random_state=20)"
   ]
  },
  {
   "cell_type": "markdown",
   "metadata": {},
   "source": [
    "Comparison"
   ]
  },
  {
   "cell_type": "code",
   "execution_count": null,
   "metadata": {
    "execution": {
     "iopub.execute_input": "2023-10-30T13:40:33.951557Z",
     "iopub.status.busy": "2023-10-30T13:40:33.951188Z",
     "iopub.status.idle": "2023-10-30T13:44:54.193725Z",
     "shell.execute_reply": "2023-10-30T13:44:54.19266Z",
     "shell.execute_reply.started": "2023-10-30T13:40:33.951531Z"
    }
   },
   "outputs": [],
   "source": [
    "logScore=pipeLog.fit(X_train,y_train).score(X_test,y_test)\n",
    "forestScore=pipeForest.fit(X_train,y_train).score(X_test,y_test)\n",
    "print(\"LogisticRegression Score is \",logScore)\n",
    "print(\"RandomForestClassifier Score is \",forestScore)"
   ]
  }
 ],
 "metadata": {
  "kernelspec": {
   "display_name": "Python 3 (ipykernel)",
   "language": "python",
   "name": "python3"
  },
  "language_info": {
   "codemirror_mode": {
    "name": "ipython",
    "version": 3
   },
   "file_extension": ".py",
   "mimetype": "text/x-python",
   "name": "python",
   "nbconvert_exporter": "python",
   "pygments_lexer": "ipython3",
   "version": "3.12.0"
  }
 },
 "nbformat": 4,
 "nbformat_minor": 4
}
